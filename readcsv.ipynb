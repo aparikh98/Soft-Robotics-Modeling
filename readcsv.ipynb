{
 "cells": [
  {
   "cell_type": "code",
   "execution_count": null,
   "metadata": {},
   "outputs": [],
   "source": [
    "import numpy as np\n",
    "import pandas as pd\n",
    "import matplotlib.pyplot as plt\n",
    "from sklearn import linear_model"
   ]
  },
  {
   "cell_type": "code",
   "execution_count": null,
   "metadata": {},
   "outputs": [],
   "source": [
    "data = []\n",
    "for i in range(10):\n",
    "    name = 'data/ecoflex/part1_pwm' + str(75 + i*10) +'.csv'\n",
    "    tmp = pd.read_csv(name, index_col=0)\n",
    "    tmp['resistance'] = - 47000 * (tmp['scaled_voltage']  -5) / tmp['scaled_voltage'] \n",
    "    tmp['bend_angle'] = 2 * (np.arctan((tmp['tip_pos_x'] -tmp['base_pos_x'])/(tmp['tip_pos_y'] -tmp['base_pos_y'])))\n",
    "    data.append(tmp[50:300])\n"
   ]
  },
  {
   "cell_type": "code",
   "execution_count": null,
   "metadata": {},
   "outputs": [],
   "source": [
    "all_bend = []\n",
    "all_rest = []\n",
    "plt.figure(figsize=(15,5))\n",
    "for i,file in enumerate(data):\n",
    "    \n",
    "    plt.plot( file['resistance'],file['bend_angle'],'.', label = str(75 + i*10))\n",
    "    \n",
    "    all_bend.extend(file['bend_angle'])\n",
    "    all_rest.extend(file['resistance'])\n",
    "    \n",
    "all_rest = np.array(all_rest).reshape(-1,1)\n",
    "all_bend = np.array(all_bend).reshape(-1,1)\n",
    "\n",
    "reg  =linear_model.LinearRegression()\n",
    "reg.fit(all_rest, all_bend)\n",
    "x = np.linspace(min(all_rest),max(all_rest))\n",
    "plt.plot(x, reg.intercept_[0] + x*reg.coef_[0,0], label='Linear Regression', color ='black')\n",
    "plt.xlabel('resistance')\n",
    "plt.ylabel('bend angle')\n",
    "plt.legend()\n",
    "plt.show()\n",
    "print(\"intercept = \", reg.intercept_, \"coef = \",reg.coef_[0], \"r^2 score = \", reg.score(all_rest, all_bend))\n"
   ]
  },
  {
   "cell_type": "code",
   "execution_count": null,
   "metadata": {},
   "outputs": [],
   "source": [
    "pd.set_option('mode.chained_assignment', None)\n",
    "\n",
    "for i in range(5):\n",
    "    for j in range(5):\n",
    "    j = 0\n",
    "    name = 'data/dragonskin/part2_pwm' + str(100 + i*10) + '_' + str(j) +'.csv'\n",
    "    tmp = pd.read_csv(name, index_col=0)\n",
    "    tmp['resistance'] = - 47 * (tmp['scaled_voltage']  -5) / tmp['scaled_voltage'] \n",
    "    tmp['bend_angle'] = 2 * (np.arctan((tmp['tip_pos_x'] -tmp['base_pos_x'])/(tmp['tip_pos_y'] -tmp['base_pos_y'])))\n",
    "    print(tmp['bend_angle'][270])\n",
    "    print(tmp['left_pwm'][270])\n",
    "    if (i + j == 0):\n",
    "        prev = tmp[280:300]\n",
    "    else:\n",
    "        prev = pd.concat([prev,tmp[280:300]])\n",
    "            \n",
    "        \n",
    "prev.to_csv('matlab/data.csv')\n",
    "\n"
   ]
  }
 ],
 "metadata": {
  "kernelspec": {
   "display_name": "Python 3",
   "language": "python",
   "name": "python3"
  },
  "language_info": {
   "codemirror_mode": {
    "name": "ipython",
    "version": 3
   },
   "file_extension": ".py",
   "mimetype": "text/x-python",
   "name": "python",
   "nbconvert_exporter": "python",
   "pygments_lexer": "ipython3",
   "version": "3.6.6"
  }
 },
 "nbformat": 4,
 "nbformat_minor": 2
}
